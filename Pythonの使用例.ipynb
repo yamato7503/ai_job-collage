{
 "cells": [
  {
   "cell_type": "code",
   "execution_count": 1,
   "metadata": {},
   "outputs": [
    {
     "name": "stdout",
     "output_type": "stream",
     "text": [
      "The Zen of Python, by Tim Peters\n",
      "\n",
      "Beautiful is better than ugly.\n",
      "Explicit is better than implicit.\n",
      "Simple is better than complex.\n",
      "Complex is better than complicated.\n",
      "Flat is better than nested.\n",
      "Sparse is better than dense.\n",
      "Readability counts.\n",
      "Special cases aren't special enough to break the rules.\n",
      "Although practicality beats purity.\n",
      "Errors should never pass silently.\n",
      "Unless explicitly silenced.\n",
      "In the face of ambiguity, refuse the temptation to guess.\n",
      "There should be one-- and preferably only one --obvious way to do it.\n",
      "Although that way may not be obvious at first unless you're Dutch.\n",
      "Now is better than never.\n",
      "Although never is often better than *right* now.\n",
      "If the implementation is hard to explain, it's a bad idea.\n",
      "If the implementation is easy to explain, it may be a good idea.\n",
      "Namespaces are one honking great idea -- let's do more of those!\n"
     ]
    }
   ],
   "source": [
    "# Pythonの禅（心がけよう）\n",
    "import this"
   ]
  },
  {
   "cell_type": "code",
   "execution_count": 2,
   "metadata": {},
   "outputs": [
    {
     "name": "stdout",
     "output_type": "stream",
     "text": [
      "lTid,cDealable,CurrencyPair,RateDateTime,RateBid,RateAsk\n",
      "\n",
      "6474889452,D,USD/JPY,2018-03-04 17:00:09.560000000,105.419000,105.489000\n",
      "\n",
      "6474889479,D,USD/JPY,2018-03-04 17:00:17.810000000,105.462000,105.532000\n",
      "\n",
      "6474889521,D,USD/JPY,2018-03-04 17:00:26.060000000,105.458000,105.528000\n",
      "\n",
      "6474889554,D,USD/JPY,2018-03-04 17:00:35.310000000,105.476000,105.546000\n",
      "\n"
     ]
    }
   ],
   "source": [
    "# ファイルを読み込むことができる\n",
    "file_USD = \"./USD_JPY_Week1.csv\"\n",
    "print_cnt = 5\n",
    "with open(file_USD) as f:\n",
    "    cnt = 0\n",
    "    while cnt < print_cnt:\n",
    "        text = f.readline()\n",
    "        print(text)\n",
    "        cnt += 1"
   ]
  },
  {
   "cell_type": "code",
   "execution_count": 3,
   "metadata": {},
   "outputs": [
    {
     "data": {
      "text/html": [
       "<div>\n",
       "<style scoped>\n",
       "    .dataframe tbody tr th:only-of-type {\n",
       "        vertical-align: middle;\n",
       "    }\n",
       "\n",
       "    .dataframe tbody tr th {\n",
       "        vertical-align: top;\n",
       "    }\n",
       "\n",
       "    .dataframe thead th {\n",
       "        text-align: right;\n",
       "    }\n",
       "</style>\n",
       "<table border=\"1\" class=\"dataframe\">\n",
       "  <thead>\n",
       "    <tr style=\"text-align: right;\">\n",
       "      <th></th>\n",
       "      <th>lTid</th>\n",
       "      <th>cDealable</th>\n",
       "      <th>CurrencyPair</th>\n",
       "      <th>RateDateTime</th>\n",
       "      <th>RateBid</th>\n",
       "      <th>RateAsk</th>\n",
       "    </tr>\n",
       "  </thead>\n",
       "  <tbody>\n",
       "    <tr>\n",
       "      <th>0</th>\n",
       "      <td>6474889452</td>\n",
       "      <td>D</td>\n",
       "      <td>USD/JPY</td>\n",
       "      <td>2018-03-04 17:00:09.560000000</td>\n",
       "      <td>105.419</td>\n",
       "      <td>105.489</td>\n",
       "    </tr>\n",
       "    <tr>\n",
       "      <th>1</th>\n",
       "      <td>6474889479</td>\n",
       "      <td>D</td>\n",
       "      <td>USD/JPY</td>\n",
       "      <td>2018-03-04 17:00:17.810000000</td>\n",
       "      <td>105.462</td>\n",
       "      <td>105.532</td>\n",
       "    </tr>\n",
       "    <tr>\n",
       "      <th>2</th>\n",
       "      <td>6474889521</td>\n",
       "      <td>D</td>\n",
       "      <td>USD/JPY</td>\n",
       "      <td>2018-03-04 17:00:26.060000000</td>\n",
       "      <td>105.458</td>\n",
       "      <td>105.528</td>\n",
       "    </tr>\n",
       "    <tr>\n",
       "      <th>3</th>\n",
       "      <td>6474889554</td>\n",
       "      <td>D</td>\n",
       "      <td>USD/JPY</td>\n",
       "      <td>2018-03-04 17:00:35.310000000</td>\n",
       "      <td>105.476</td>\n",
       "      <td>105.546</td>\n",
       "    </tr>\n",
       "    <tr>\n",
       "      <th>4</th>\n",
       "      <td>6474889598</td>\n",
       "      <td>D</td>\n",
       "      <td>USD/JPY</td>\n",
       "      <td>2018-03-04 17:00:38.310000000</td>\n",
       "      <td>105.461</td>\n",
       "      <td>105.531</td>\n",
       "    </tr>\n",
       "  </tbody>\n",
       "</table>\n",
       "</div>"
      ],
      "text/plain": [
       "         lTid cDealable CurrencyPair                   RateDateTime  RateBid  \\\n",
       "0  6474889452         D      USD/JPY  2018-03-04 17:00:09.560000000  105.419   \n",
       "1  6474889479         D      USD/JPY  2018-03-04 17:00:17.810000000  105.462   \n",
       "2  6474889521         D      USD/JPY  2018-03-04 17:00:26.060000000  105.458   \n",
       "3  6474889554         D      USD/JPY  2018-03-04 17:00:35.310000000  105.476   \n",
       "4  6474889598         D      USD/JPY  2018-03-04 17:00:38.310000000  105.461   \n",
       "\n",
       "   RateAsk  \n",
       "0  105.489  \n",
       "1  105.532  \n",
       "2  105.528  \n",
       "3  105.546  \n",
       "4  105.531  "
      ]
     },
     "execution_count": 3,
     "metadata": {},
     "output_type": "execute_result"
    }
   ],
   "source": [
    "# データフレームを使う方が便利\n",
    "import pandas as pd\n",
    "df_usd = pd.read_csv(file_USD)\n",
    "df_usd.head()"
   ]
  },
  {
   "cell_type": "code",
   "execution_count": 4,
   "metadata": {},
   "outputs": [
    {
     "data": {
      "text/html": [
       "<div>\n",
       "<style scoped>\n",
       "    .dataframe tbody tr th:only-of-type {\n",
       "        vertical-align: middle;\n",
       "    }\n",
       "\n",
       "    .dataframe tbody tr th {\n",
       "        vertical-align: top;\n",
       "    }\n",
       "\n",
       "    .dataframe thead th {\n",
       "        text-align: right;\n",
       "    }\n",
       "</style>\n",
       "<table border=\"1\" class=\"dataframe\">\n",
       "  <thead>\n",
       "    <tr style=\"text-align: right;\">\n",
       "      <th></th>\n",
       "      <th>lTid</th>\n",
       "      <th>RateBid</th>\n",
       "      <th>RateAsk</th>\n",
       "    </tr>\n",
       "  </thead>\n",
       "  <tbody>\n",
       "    <tr>\n",
       "      <th>count</th>\n",
       "      <td>4.248600e+05</td>\n",
       "      <td>424860.000000</td>\n",
       "      <td>424860.000000</td>\n",
       "    </tr>\n",
       "    <tr>\n",
       "      <th>mean</th>\n",
       "      <td>6.483948e+09</td>\n",
       "      <td>106.075241</td>\n",
       "      <td>106.080853</td>\n",
       "    </tr>\n",
       "    <tr>\n",
       "      <th>std</th>\n",
       "      <td>5.389774e+06</td>\n",
       "      <td>0.404739</td>\n",
       "      <td>0.404252</td>\n",
       "    </tr>\n",
       "    <tr>\n",
       "      <th>min</th>\n",
       "      <td>6.474889e+09</td>\n",
       "      <td>105.350000</td>\n",
       "      <td>105.354000</td>\n",
       "    </tr>\n",
       "    <tr>\n",
       "      <th>25%</th>\n",
       "      <td>6.479199e+09</td>\n",
       "      <td>105.738000</td>\n",
       "      <td>105.743000</td>\n",
       "    </tr>\n",
       "    <tr>\n",
       "      <th>50%</th>\n",
       "      <td>6.483765e+09</td>\n",
       "      <td>106.075000</td>\n",
       "      <td>106.081000</td>\n",
       "    </tr>\n",
       "    <tr>\n",
       "      <th>75%</th>\n",
       "      <td>6.488690e+09</td>\n",
       "      <td>106.228000</td>\n",
       "      <td>106.235000</td>\n",
       "    </tr>\n",
       "    <tr>\n",
       "      <th>max</th>\n",
       "      <td>6.493389e+09</td>\n",
       "      <td>107.051000</td>\n",
       "      <td>107.054000</td>\n",
       "    </tr>\n",
       "  </tbody>\n",
       "</table>\n",
       "</div>"
      ],
      "text/plain": [
       "               lTid        RateBid        RateAsk\n",
       "count  4.248600e+05  424860.000000  424860.000000\n",
       "mean   6.483948e+09     106.075241     106.080853\n",
       "std    5.389774e+06       0.404739       0.404252\n",
       "min    6.474889e+09     105.350000     105.354000\n",
       "25%    6.479199e+09     105.738000     105.743000\n",
       "50%    6.483765e+09     106.075000     106.081000\n",
       "75%    6.488690e+09     106.228000     106.235000\n",
       "max    6.493389e+09     107.051000     107.054000"
      ]
     },
     "execution_count": 4,
     "metadata": {},
     "output_type": "execute_result"
    }
   ],
   "source": [
    "#　中身の統計量の確認\n",
    "df_usd.describe()"
   ]
  },
  {
   "cell_type": "code",
   "execution_count": 5,
   "metadata": {},
   "outputs": [
    {
     "data": {
      "text/plain": [
       "[<matplotlib.lines.Line2D at 0x10b491240>]"
      ]
     },
     "execution_count": 5,
     "metadata": {},
     "output_type": "execute_result"
    },
    {
     "data": {
      "image/png": "[encoded data removed]",
      "text/plain": [
       "<Figure size 432x288 with 1 Axes>"
      ]
     },
     "metadata": {},
     "output_type": "display_data"
    }
   ],
   "source": [
    "# 図示して確認\n",
    "%matplotlib inline\n",
    "import matplotlib.pyplot as plt\n",
    "plt.plot(df_usd[\"RateBid\"])"
   ]
  },
  {
   "cell_type": "code",
   "execution_count": 6,
   "metadata": {},
   "outputs": [
    {
     "data": {
      "text/html": [
       "<div>\n",
       "<style scoped>\n",
       "    .dataframe tbody tr th:only-of-type {\n",
       "        vertical-align: middle;\n",
       "    }\n",
       "\n",
       "    .dataframe tbody tr th {\n",
       "        vertical-align: top;\n",
       "    }\n",
       "\n",
       "    .dataframe thead th {\n",
       "        text-align: right;\n",
       "    }\n",
       "</style>\n",
       "<table border=\"1\" class=\"dataframe\">\n",
       "  <thead>\n",
       "    <tr style=\"text-align: right;\">\n",
       "      <th></th>\n",
       "      <th>lTid</th>\n",
       "      <th>cDealable</th>\n",
       "      <th>CurrencyPair</th>\n",
       "      <th>RateDateTime</th>\n",
       "      <th>RateBid</th>\n",
       "      <th>RateAsk</th>\n",
       "    </tr>\n",
       "  </thead>\n",
       "  <tbody>\n",
       "    <tr>\n",
       "      <th>0</th>\n",
       "      <td>6474889765</td>\n",
       "      <td>D</td>\n",
       "      <td>EUR/JPY</td>\n",
       "      <td>2018-03-04 17:00:55.560000000</td>\n",
       "      <td>130.103</td>\n",
       "      <td>130.246</td>\n",
       "    </tr>\n",
       "    <tr>\n",
       "      <th>1</th>\n",
       "      <td>6474890588</td>\n",
       "      <td>D</td>\n",
       "      <td>EUR/JPY</td>\n",
       "      <td>2018-03-04 17:03:08.807000000</td>\n",
       "      <td>130.135</td>\n",
       "      <td>130.276</td>\n",
       "    </tr>\n",
       "    <tr>\n",
       "      <th>2</th>\n",
       "      <td>6474890743</td>\n",
       "      <td>D</td>\n",
       "      <td>EUR/JPY</td>\n",
       "      <td>2018-03-04 17:03:26.057000000</td>\n",
       "      <td>130.104</td>\n",
       "      <td>130.253</td>\n",
       "    </tr>\n",
       "    <tr>\n",
       "      <th>3</th>\n",
       "      <td>6474890809</td>\n",
       "      <td>D</td>\n",
       "      <td>EUR/JPY</td>\n",
       "      <td>2018-03-04 17:03:31.807000000</td>\n",
       "      <td>130.104</td>\n",
       "      <td>130.245</td>\n",
       "    </tr>\n",
       "    <tr>\n",
       "      <th>4</th>\n",
       "      <td>6474890822</td>\n",
       "      <td>D</td>\n",
       "      <td>EUR/JPY</td>\n",
       "      <td>2018-03-04 17:03:33.807000000</td>\n",
       "      <td>130.108</td>\n",
       "      <td>130.256</td>\n",
       "    </tr>\n",
       "  </tbody>\n",
       "</table>\n",
       "</div>"
      ],
      "text/plain": [
       "         lTid cDealable CurrencyPair                   RateDateTime  RateBid  \\\n",
       "0  6474889765         D      EUR/JPY  2018-03-04 17:00:55.560000000  130.103   \n",
       "1  6474890588         D      EUR/JPY  2018-03-04 17:03:08.807000000  130.135   \n",
       "2  6474890743         D      EUR/JPY  2018-03-04 17:03:26.057000000  130.104   \n",
       "3  6474890809         D      EUR/JPY  2018-03-04 17:03:31.807000000  130.104   \n",
       "4  6474890822         D      EUR/JPY  2018-03-04 17:03:33.807000000  130.108   \n",
       "\n",
       "   RateAsk  \n",
       "0  130.246  \n",
       "1  130.276  \n",
       "2  130.253  \n",
       "3  130.245  \n",
       "4  130.256  "
      ]
     },
     "execution_count": 6,
     "metadata": {},
     "output_type": "execute_result"
    }
   ],
   "source": [
    "# もう１ファイルも同様に確認\n",
    "df_eur = pd.read_csv(\"./EUR_JPY_Week1.csv\")\n",
    "df_eur.head()"
   ]
  },
  {
   "cell_type": "code",
   "execution_count": 7,
   "metadata": {},
   "outputs": [
    {
     "data": {
      "text/html": [
       "<div>\n",
       "<style scoped>\n",
       "    .dataframe tbody tr th:only-of-type {\n",
       "        vertical-align: middle;\n",
       "    }\n",
       "\n",
       "    .dataframe tbody tr th {\n",
       "        vertical-align: top;\n",
       "    }\n",
       "\n",
       "    .dataframe thead th {\n",
       "        text-align: right;\n",
       "    }\n",
       "</style>\n",
       "<table border=\"1\" class=\"dataframe\">\n",
       "  <thead>\n",
       "    <tr style=\"text-align: right;\">\n",
       "      <th></th>\n",
       "      <th>lTid</th>\n",
       "      <th>RateBid</th>\n",
       "      <th>RateAsk</th>\n",
       "    </tr>\n",
       "  </thead>\n",
       "  <tbody>\n",
       "    <tr>\n",
       "      <th>count</th>\n",
       "      <td>5.412410e+05</td>\n",
       "      <td>541241.000000</td>\n",
       "      <td>541241.000000</td>\n",
       "    </tr>\n",
       "    <tr>\n",
       "      <th>mean</th>\n",
       "      <td>6.483878e+09</td>\n",
       "      <td>131.098910</td>\n",
       "      <td>131.108952</td>\n",
       "    </tr>\n",
       "    <tr>\n",
       "      <th>std</th>\n",
       "      <td>5.431323e+06</td>\n",
       "      <td>0.561547</td>\n",
       "      <td>0.561119</td>\n",
       "    </tr>\n",
       "    <tr>\n",
       "      <th>min</th>\n",
       "      <td>6.474890e+09</td>\n",
       "      <td>129.350000</td>\n",
       "      <td>129.360000</td>\n",
       "    </tr>\n",
       "    <tr>\n",
       "      <th>25%</th>\n",
       "      <td>6.479011e+09</td>\n",
       "      <td>130.846000</td>\n",
       "      <td>130.858000</td>\n",
       "    </tr>\n",
       "    <tr>\n",
       "      <th>50%</th>\n",
       "      <td>6.483638e+09</td>\n",
       "      <td>131.279000</td>\n",
       "      <td>131.288000</td>\n",
       "    </tr>\n",
       "    <tr>\n",
       "      <th>75%</th>\n",
       "      <td>6.488625e+09</td>\n",
       "      <td>131.485000</td>\n",
       "      <td>131.493000</td>\n",
       "    </tr>\n",
       "    <tr>\n",
       "      <th>max</th>\n",
       "      <td>6.493389e+09</td>\n",
       "      <td>132.016000</td>\n",
       "      <td>132.022000</td>\n",
       "    </tr>\n",
       "  </tbody>\n",
       "</table>\n",
       "</div>"
      ],
      "text/plain": [
       "               lTid        RateBid        RateAsk\n",
       "count  5.412410e+05  541241.000000  541241.000000\n",
       "mean   6.483878e+09     131.098910     131.108952\n",
       "std    5.431323e+06       0.561547       0.561119\n",
       "min    6.474890e+09     129.350000     129.360000\n",
       "25%    6.479011e+09     130.846000     130.858000\n",
       "50%    6.483638e+09     131.279000     131.288000\n",
       "75%    6.488625e+09     131.485000     131.493000\n",
       "max    6.493389e+09     132.016000     132.022000"
      ]
     },
     "execution_count": 7,
     "metadata": {},
     "output_type": "execute_result"
    }
   ],
   "source": [
    "df_eur.describe()"
   ]
  },
  {
   "cell_type": "code",
   "execution_count": 8,
   "metadata": {},
   "outputs": [
    {
     "data": {
      "image/png": "[encoded data removed]",
      "text/plain": [
       "<Figure size 432x288 with 1 Axes>"
      ]
     },
     "metadata": {},
     "output_type": "display_data"
    }
   ],
   "source": [
    "#　２グラフを比較\n",
    "plt.plot(df_usd[\"RateBid\"], label=\"USD\")\n",
    "plt.plot(df_eur[\"RateBid\"], label=\"EUR\")\n",
    "plt.legend(loc=\"center left\")\n",
    "plt.show()"
   ]
  },
  {
   "cell_type": "code",
   "execution_count": 9,
   "metadata": {},
   "outputs": [
    {
     "data": {
      "image/png": "[encoded data removed]",
      "text/plain": [
       "<Figure size 432x288 with 2 Axes>"
      ]
     },
     "metadata": {},
     "output_type": "display_data"
    }
   ],
   "source": [
    "# 軸を揃える\n",
    "fig, ax1 = plt.subplots()\n",
    "ax2 = ax1.twinx()\n",
    "ax1.plot(df_usd[\"RateBid\"], label=\"USD\", color=\"b\")\n",
    "ax2.plot(df_eur[\"RateBid\"], label=\"EUR\", color=\"g\")\n",
    "plt.show()"
   ]
  },
  {
   "cell_type": "code",
   "execution_count": 10,
   "metadata": {},
   "outputs": [
    {
     "name": "stdout",
     "output_type": "stream",
     "text": [
      "USDレコード:424860\n",
      "EURレコード:541241\n",
      "同時刻のレコード:284852\n"
     ]
    }
   ],
   "source": [
    "# 同じ時刻に記録されているものを調べる\n",
    "set_usd = set(df_usd[\"RateDateTime\"])\n",
    "set_eur = set(df_eur[\"RateDateTime\"])\n",
    "set_dup = set_usd & set_eur\n",
    "print(\"USDレコード:{}\".format(len(df_usd[\"RateDateTime\"])))\n",
    "print(\"EURレコード:{}\".format(len(df_eur[\"RateDateTime\"])))\n",
    "print(\"同時刻のレコード:{}\".format(len(set_dup)))"
   ]
  },
  {
   "cell_type": "code",
   "execution_count": 11,
   "metadata": {},
   "outputs": [
    {
     "data": {
      "text/plain": [
       "<matplotlib.collections.PathCollection at 0x1126b37f0>"
      ]
     },
     "execution_count": 11,
     "metadata": {},
     "output_type": "execute_result"
    },
    {
     "data": {
      "image/png": "[encoded data removed]",
      "text/plain": [
       "<Figure size 432x288 with 1 Axes>"
      ]
     },
     "metadata": {},
     "output_type": "display_data"
    }
   ],
   "source": [
    "# 同じ時刻のUSDとEURのレコードのRateBidを散布図にしてみる\n",
    "list_usd = [x for t, x in zip(df_usd[\"RateDateTime\"], df_usd[\"RateBid\"]) if t in set_dup]\n",
    "list_eur = [x for t, x in zip(df_eur[\"RateDateTime\"], df_eur[\"RateBid\"]) if t in set_dup]\n",
    "plt.scatter(list_usd, list_eur, s=1, marker='x')"
   ]
  },
  {
   "cell_type": "code",
   "execution_count": 12,
   "metadata": {},
   "outputs": [
    {
     "name": "stdout",
     "output_type": "stream",
     "text": [
      "0.5769887523908291\n"
     ]
    }
   ],
   "source": [
    "# 相関係数を求める関数を作る\n",
    "import numpy as np\n",
    "def my_corrcoef(x_list, y_list):\n",
    "    x = np.array(x_list)\n",
    "    y = np.array(y_list)\n",
    "    c_var = np.dot(x - x.mean(), y - y.mean()) / len(x)\n",
    "    return c_var / (x.std() * y.std())\n",
    "\n",
    "print(my_corrcoef(list_usd,list_eur))"
   ]
  },
  {
   "cell_type": "code",
   "execution_count": 13,
   "metadata": {},
   "outputs": [
    {
     "name": "stdout",
     "output_type": "stream",
     "text": [
      "[[1.         0.57698875]\n",
      " [0.57698875 1.        ]]\n"
     ]
    }
   ],
   "source": [
    "# numpy との一致を確認\n",
    "print(np.corrcoef(list_usd,list_eur))"
   ]
  },
  {
   "cell_type": "code",
   "execution_count": 14,
   "metadata": {
    "collapsed": true
   },
   "outputs": [],
   "source": [
    "# 回帰直線を引くためにモデルを作成\n",
    "import random\n",
    "class MyRegression():\n",
    "    \n",
    "    @classmethod\n",
    "    def standardize(self, X):\n",
    "        \"\"\"\n",
    "        正規化\n",
    "        \"\"\"\n",
    "        return (X - X.mean()) / X.std()\n",
    "    \n",
    "    def __init__(self, ETA=0.000001, cnt=100):\n",
    "        \"\"\"\n",
    "        コンストラクタ\n",
    "        \"\"\"\n",
    "        self.ETA = ETA\n",
    "        self.cnt = cnt\n",
    "        self.loss = 0\n",
    "        self.theta_0 = random.random()\n",
    "        self.theta_1 = random.random()\n",
    "    \n",
    "    def f(self, X):\n",
    "        \"\"\"\n",
    "        モデル部分\n",
    "        \"\"\"\n",
    "        return self.theta_0 + self.theta_1 * X\n",
    "\n",
    "    \n",
    "    def J(self, X, y):\n",
    "        \"\"\"\n",
    "        目的関数\n",
    "        \"\"\"\n",
    "        return 0.5 * sum((y - self.f(X)) ** 2)\n",
    "    \n",
    "\n",
    "    def fit(self, X, y):\n",
    "        \"\"\"\n",
    "        学習\n",
    "        \"\"\"\n",
    "        self.loss = self.J(X, y)\n",
    "        self.__print(0)\n",
    "        for i in range(self.cnt):\n",
    "            self.theta_0 -= self.ETA * sum(self.f(X) - y)\n",
    "            self.theta_1 -= self.ETA * sum((self.f(X) - y) * X)\n",
    "            if (i+1) % 20 == 0:\n",
    "                self.loss = self.J(X, y)\n",
    "                self.__print(i)\n",
    "                if self.loss < 0.0001:\n",
    "                    break\n",
    "                \n",
    "    def predict(self, X):\n",
    "        \"\"\"\n",
    "        予測\n",
    "        \"\"\"\n",
    "        return np.array([x * self.theta_1 + self.theta_0 for x in X])\n",
    "        \n",
    "\n",
    "    def __print(self, cnt):\n",
    "        \"\"\"\n",
    "        ログ出力\n",
    "        \"\"\"\n",
    "        print(\"cnt:{}, theta_0:{:.2f}, theta_1:{:.2f}, loss:{}\".format(cnt, self.theta_0, self.theta_1, self.loss))\n"
   ]
  },
  {
   "cell_type": "code",
   "execution_count": 15,
   "metadata": {},
   "outputs": [
    {
     "name": "stdout",
     "output_type": "stream",
     "text": [
      "cnt:0, theta_0:0.68, theta_1:0.54, loss:2423011664.729495\n",
      "cnt:19, theta_0:130.95, theta_1:0.32, loss:33062.06458000842\n",
      "cnt:39, theta_0:131.11, theta_1:0.32, loss:29429.72271991696\n",
      "cnt:59, theta_0:131.11, theta_1:0.32, loss:29429.717274592178\n",
      "cnt:79, theta_0:131.11, theta_1:0.32, loss:29429.717274582315\n",
      "cnt:99, theta_0:131.11, theta_1:0.32, loss:29429.717274583218\n"
     ]
    }
   ],
   "source": [
    "# モデルに学習させる\n",
    "reg = MyRegression()\n",
    "array_usd_std = MyRegression.standardize(np.array(list_usd))\n",
    "reg.fit(array_usd_std, np.array(list_eur))"
   ]
  },
  {
   "cell_type": "code",
   "execution_count": 16,
   "metadata": {},
   "outputs": [
    {
     "data": {
      "image/png": "[encoded data removed]",
      "text/plain": [
       "<Figure size 432x288 with 1 Axes>"
      ]
     },
     "metadata": {},
     "output_type": "display_data"
    }
   ],
   "source": [
    "#  モデルの学習結果に基づく回帰直線を引く\n",
    "plt.scatter(array_usd_std, list_eur, s=1, marker='x')\n",
    "plt.plot(array_usd_std, reg.predict(array_usd_std), color=\"red\",\n",
    "                label=\"y = {:.3f}x + {:.3f}\".format(reg.theta_1, reg.theta_0))\n",
    "plt.legend()\n",
    "plt.show()"
   ]
  },
  {
   "cell_type": "code",
   "execution_count": 17,
   "metadata": {},
   "outputs": [
    {
     "data": {
      "text/html": [
       "<div>\n",
       "<style scoped>\n",
       "    .dataframe tbody tr th:only-of-type {\n",
       "        vertical-align: middle;\n",
       "    }\n",
       "\n",
       "    .dataframe tbody tr th {\n",
       "        vertical-align: top;\n",
       "    }\n",
       "\n",
       "    .dataframe thead th {\n",
       "        text-align: right;\n",
       "    }\n",
       "</style>\n",
       "<table border=\"1\" class=\"dataframe\">\n",
       "  <thead>\n",
       "    <tr style=\"text-align: right;\">\n",
       "      <th></th>\n",
       "      <th>lTid</th>\n",
       "      <th>cDealable</th>\n",
       "      <th>CurrencyPair</th>\n",
       "      <th>RateDateTime</th>\n",
       "      <th>RateBid</th>\n",
       "      <th>RateAsk</th>\n",
       "      <th>NewRateDateTime</th>\n",
       "    </tr>\n",
       "  </thead>\n",
       "  <tbody>\n",
       "    <tr>\n",
       "      <th>0</th>\n",
       "      <td>6474889452</td>\n",
       "      <td>D</td>\n",
       "      <td>USD/JPY</td>\n",
       "      <td>2018-03-04 17:00:09.560000000</td>\n",
       "      <td>105.419</td>\n",
       "      <td>105.489</td>\n",
       "      <td>2018-03-04 17:00</td>\n",
       "    </tr>\n",
       "    <tr>\n",
       "      <th>1</th>\n",
       "      <td>6474889479</td>\n",
       "      <td>D</td>\n",
       "      <td>USD/JPY</td>\n",
       "      <td>2018-03-04 17:00:17.810000000</td>\n",
       "      <td>105.462</td>\n",
       "      <td>105.532</td>\n",
       "      <td>2018-03-04 17:00</td>\n",
       "    </tr>\n",
       "    <tr>\n",
       "      <th>2</th>\n",
       "      <td>6474889521</td>\n",
       "      <td>D</td>\n",
       "      <td>USD/JPY</td>\n",
       "      <td>2018-03-04 17:00:26.060000000</td>\n",
       "      <td>105.458</td>\n",
       "      <td>105.528</td>\n",
       "      <td>2018-03-04 17:00</td>\n",
       "    </tr>\n",
       "    <tr>\n",
       "      <th>3</th>\n",
       "      <td>6474889554</td>\n",
       "      <td>D</td>\n",
       "      <td>USD/JPY</td>\n",
       "      <td>2018-03-04 17:00:35.310000000</td>\n",
       "      <td>105.476</td>\n",
       "      <td>105.546</td>\n",
       "      <td>2018-03-04 17:00</td>\n",
       "    </tr>\n",
       "    <tr>\n",
       "      <th>4</th>\n",
       "      <td>6474889598</td>\n",
       "      <td>D</td>\n",
       "      <td>USD/JPY</td>\n",
       "      <td>2018-03-04 17:00:38.310000000</td>\n",
       "      <td>105.461</td>\n",
       "      <td>105.531</td>\n",
       "      <td>2018-03-04 17:00</td>\n",
       "    </tr>\n",
       "  </tbody>\n",
       "</table>\n",
       "</div>"
      ],
      "text/plain": [
       "         lTid cDealable CurrencyPair                   RateDateTime  RateBid  \\\n",
       "0  6474889452         D      USD/JPY  2018-03-04 17:00:09.560000000  105.419   \n",
       "1  6474889479         D      USD/JPY  2018-03-04 17:00:17.810000000  105.462   \n",
       "2  6474889521         D      USD/JPY  2018-03-04 17:00:26.060000000  105.458   \n",
       "3  6474889554         D      USD/JPY  2018-03-04 17:00:35.310000000  105.476   \n",
       "4  6474889598         D      USD/JPY  2018-03-04 17:00:38.310000000  105.461   \n",
       "\n",
       "   RateAsk   NewRateDateTime  \n",
       "0  105.489  2018-03-04 17:00  \n",
       "1  105.532  2018-03-04 17:00  \n",
       "2  105.528  2018-03-04 17:00  \n",
       "3  105.546  2018-03-04 17:00  \n",
       "4  105.531  2018-03-04 17:00  "
      ]
     },
     "execution_count": 17,
     "metadata": {},
     "output_type": "execute_result"
    }
   ],
   "source": [
    "# RateBidを1分単位に変更する\n",
    "for df in (df_usd, df_eur):\n",
    "    df[\"NewRateDateTime\"] = df[\"RateDateTime\"].apply(lambda x: x[:16])\n",
    "df_usd.head()"
   ]
  },
  {
   "cell_type": "code",
   "execution_count": 18,
   "metadata": {
    "collapsed": true
   },
   "outputs": [],
   "source": [
    "# 1分単位でレートをまとめる\n",
    "di_usd = {}\n",
    "di_eur = {}\n",
    "for di, df in zip((di_usd, di_eur), (df_usd, df_eur)):\n",
    "    for t, x in zip(df[\"NewRateDateTime\"], df[\"RateBid\"]):\n",
    "        di[t] = [x] if di.get(t) is None else di[t] + [x]"
   ]
  },
  {
   "cell_type": "code",
   "execution_count": 19,
   "metadata": {},
   "outputs": [
    {
     "name": "stdout",
     "output_type": "stream",
     "text": [
      "{'2018-03-08 00:16': [106.033, 106.033, 106.033, 106.033, 106.034, 106.037, 106.038, 106.039, 106.038, 106.037, 106.036, 106.037, 106.039, 106.04, 106.037, 106.038, 106.039, 106.042, 106.046, 106.043, 106.042, 106.043, 106.042, 106.045, 106.044, 106.045, 106.049, 106.048, 106.047, 106.044, 106.046, \n"
     ]
    }
   ],
   "source": [
    "#　確認（重いので最初だけ）\n",
    "print(str(di_usd)[:300])"
   ]
  },
  {
   "cell_type": "code",
   "execution_count": 20,
   "metadata": {
    "collapsed": true
   },
   "outputs": [],
   "source": [
    "# １分単位の最大値と最小値の差分を取る\n",
    "di_usd_min_max = {t:max(di_usd[t]) - min(di_usd[t]) for t in di_usd}\n",
    "di_eur_min_max = {t:max(di_eur[t]) - min(di_eur[t]) for t in di_eur}"
   ]
  },
  {
   "cell_type": "code",
   "execution_count": 21,
   "metadata": {},
   "outputs": [
    {
     "data": {
      "image/png": "[encoded data removed]",
      "text/plain": [
       "<Figure size 432x288 with 1 Axes>"
      ]
     },
     "metadata": {},
     "output_type": "display_data"
    }
   ],
   "source": [
    "# 1分単位の最大値と最小値の差分のヒストグラムを描く\n",
    "plt.hist([list(di_usd_min_max.values()),\n",
    "               list(di_eur_min_max.values())], label=[\"USD\", \"EUR\"], bins=50)\n",
    "plt.legend()\n",
    "plt.show()"
   ]
  },
  {
   "cell_type": "code",
   "execution_count": null,
   "metadata": {
    "collapsed": true
   },
   "outputs": [],
   "source": []
  }
 ],
 "metadata": {
  "anaconda-cloud": {},
  "kernelspec": {
   "display_name": "Python [Root]",
   "language": "python",
   "name": "Python [Root]"
  },
  "language_info": {
   "codemirror_mode": {
    "name": "ipython",
    "version": 3
   },
   "file_extension": ".py",
   "mimetype": "text/x-python",
   "name": "python",
   "nbconvert_exporter": "python",
   "pygments_lexer": "ipython3",
   "version": "3.5.2"
  }
 },
 "nbformat": 4,
 "nbformat_minor": 1
}
