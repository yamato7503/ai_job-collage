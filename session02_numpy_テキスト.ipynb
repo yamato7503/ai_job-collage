{
 "cells": [
  {
   "cell_type": "markdown",
   "metadata": {},
   "source": [
    "## numpy"
   ]
  },
  {
   "cell_type": "markdown",
   "metadata": {},
   "source": [
    "#### 基本操作\n",
    "- 配列の作り方\n",
    "- 型について\n",
    "- 2次元配列\n",
    "- reshape, flatten\n",
    "- shape, ndim, size"
   ]
  },
  {
   "cell_type": "code",
   "execution_count": null,
   "metadata": {
    "collapsed": true
   },
   "outputs": [],
   "source": [
    "#　モジュールのインポート\n",
    "import numpy as np"
   ]
  },
  {
   "cell_type": "code",
   "execution_count": null,
   "metadata": {
    "collapsed": false
   },
   "outputs": [],
   "source": [
    "# 配列を作成する\n",
    "array = np.array([10, 20, 30, 40, 50])\n",
    "print(array)"
   ]
  },
  {
   "cell_type": "code",
   "execution_count": null,
   "metadata": {
    "collapsed": false
   },
   "outputs": [],
   "source": [
    "array = np.array((60, 70, 80, 90, 100))\n",
    "print(array)"
   ]
  },
  {
   "cell_type": "code",
   "execution_count": null,
   "metadata": {
    "collapsed": false
   },
   "outputs": [],
   "source": [
    "# 型は混在できない　　\n",
    "array_1 = np.array([1, 1.5, 2, 3])  # int とfloat \n",
    "array_2 = np.array([1, 1.5, '2', 3]) # 文字列 と数値\n",
    "array_3 = np.array([1, 1.5, True, False])  # 論理値と数値\n",
    "\n",
    "print(array_1)\n",
    "print(array_2)\n",
    "print(array_3)"
   ]
  },
  {
   "cell_type": "code",
   "execution_count": null,
   "metadata": {
    "collapsed": false
   },
   "outputs": [],
   "source": [
    "# 多次元配列\n",
    "array = np.array([[1, 2, 3, 4, 5], [6, 7, 8, 9, 10]])\n",
    "print(array)"
   ]
  },
  {
   "cell_type": "code",
   "execution_count": null,
   "metadata": {
    "collapsed": false
   },
   "outputs": [],
   "source": [
    "# reshape(行,　列)\n",
    "lis = [1, 2, 3, 4, 5, 6, 7, 8, 9,10,11,12]\n",
    "array_0 = np.array(lis)\n",
    "array_1 = np.array(lis).reshape(3,4)\n",
    "array_2 = np.array(lis).reshape(4,3)\n",
    "array_3 = np.array(lis).reshape(-1,4) # -1を指定すると自動的に計算される\n",
    "array_4 = np.array(lis).reshape(4,-1)\n",
    "\n",
    "print(array_0)\n",
    "print()\n",
    "print(array_1)\n",
    "print()\n",
    "print(array_2)\n",
    "print()\n",
    "print(array_3)\n",
    "print()\n",
    "print(array_4)"
   ]
  },
  {
   "cell_type": "code",
   "execution_count": null,
   "metadata": {
    "collapsed": false,
    "scrolled": true
   },
   "outputs": [],
   "source": [
    "# 1次元配列に変換\n",
    "array = np.array([[1, 2, 3, 4, 5], [6, 7, 8, 9, 10]])\n",
    "print(array)\n",
    "print()\n",
    "\n",
    "array = array.flatten()\n",
    "print(array)"
   ]
  },
  {
   "cell_type": "code",
   "execution_count": null,
   "metadata": {
    "collapsed": false
   },
   "outputs": [],
   "source": [
    "# 配列が何行何列かを調べる\n",
    "array = np.array([[1, 2, 3, 4, 5], [6, 7, 8, 9, 10]])\n",
    "print(array)\n",
    "print()\n",
    "array.shape"
   ]
  },
  {
   "cell_type": "code",
   "execution_count": null,
   "metadata": {
    "collapsed": false
   },
   "outputs": [],
   "source": [
    "# 配列の次元を調べる\n",
    "array.ndim"
   ]
  },
  {
   "cell_type": "code",
   "execution_count": null,
   "metadata": {
    "collapsed": false
   },
   "outputs": [],
   "source": [
    "# 要素の数を調べる\n",
    "array.size"
   ]
  },
  {
   "cell_type": "code",
   "execution_count": null,
   "metadata": {
    "collapsed": true
   },
   "outputs": [],
   "source": []
  },
  {
   "cell_type": "markdown",
   "metadata": {},
   "source": [
    "#### 効率的な配列の作成\n",
    "- arange\n",
    "- ゼロ行列の作り方\n",
    "- ランダム配列の作り方\n",
    "- random.seed"
   ]
  },
  {
   "cell_type": "code",
   "execution_count": null,
   "metadata": {
    "collapsed": false
   },
   "outputs": [],
   "source": [
    "# np.arange(開始, 終了, ステップ)\n",
    "array = np.arange(10)\n",
    "print(array)\n",
    "print()\n",
    "\n",
    "array = np.arange(1,10)\n",
    "print(array)\n",
    "print()\n",
    "\n",
    "array = np.arange(1,10,2)\n",
    "print(array)\n",
    "print()"
   ]
  },
  {
   "cell_type": "code",
   "execution_count": null,
   "metadata": {
    "collapsed": false
   },
   "outputs": [],
   "source": [
    "# 零行列  \n",
    "array = np.zeros(9)\n",
    "print(array)  \n",
    "print()\n",
    "\n",
    "array = np.zeros((2,3))\n",
    "print(array)  "
   ]
  },
  {
   "cell_type": "code",
   "execution_count": null,
   "metadata": {
    "collapsed": false
   },
   "outputs": [],
   "source": [
    "# 0-1の乱数を作成\n",
    "array = np.random.rand(5)\n",
    "print(array)\n",
    "print()\n",
    "\n",
    "array = np.random.rand(5)\n",
    "print(array)\n",
    "print()\n",
    "\n",
    "array = np.random.rand(2, 5)\n",
    "print(array)"
   ]
  },
  {
   "cell_type": "code",
   "execution_count": null,
   "metadata": {
    "collapsed": false
   },
   "outputs": [],
   "source": [
    "# 乱数を固定\n",
    "np.random.seed(0)\n",
    "array = np.random.rand(5)\n",
    "print(array)\n",
    "print()\n",
    "\n",
    "np.random.seed(0)\n",
    "array = np.random.rand(5)\n",
    "print(array)\n",
    "print()\n",
    "\n",
    "np.random.seed(1234)\n",
    "array = np.random.rand(5)\n",
    "print(array)\n",
    "print()\n",
    "\n",
    "np.random.seed(1234)\n",
    "array = np.random.rand(5)\n",
    "print(array)"
   ]
  },
  {
   "cell_type": "code",
   "execution_count": null,
   "metadata": {
    "collapsed": true
   },
   "outputs": [],
   "source": []
  },
  {
   "cell_type": "markdown",
   "metadata": {},
   "source": [
    "#### 要素の追加・参照\n",
    "- append\n",
    "- 参照（スライシング）\n",
    "- for文"
   ]
  },
  {
   "cell_type": "code",
   "execution_count": null,
   "metadata": {
    "collapsed": false
   },
   "outputs": [],
   "source": [
    "# 足し算をすると要素同士が足されて追加できない\n",
    "array_1 = np.array([1,2,3])\n",
    "array_2 = np.array([4,5,6])\n",
    "array_3 = array_1 + array_2\n",
    "print(array_3)"
   ]
  },
  {
   "cell_type": "code",
   "execution_count": null,
   "metadata": {
    "collapsed": false
   },
   "outputs": [],
   "source": [
    "# np.append\n",
    "array_1 = np.array([1,2,3])\n",
    "array_2 = np.array([4,5,6])\n",
    "array_3 = np.append(array_1, array_2)\n",
    "print(array_3)\n"
   ]
  },
  {
   "cell_type": "code",
   "execution_count": null,
   "metadata": {
    "collapsed": false
   },
   "outputs": [],
   "source": [
    "# 参照\n",
    "array = np.arange(0, 90, 10).reshape(3,3)\n",
    "print(array)\n",
    "print()\n",
    "\n",
    "print(array[0])\n",
    "print()\n",
    "\n",
    "print(array[0][1])\n",
    "print()\n",
    "\n",
    "print(array[0, 1])\n",
    "print()\n",
    "\n",
    "print(array[:, 1])\n",
    "print()\n",
    "\n",
    "print(array[-1, :])\n",
    "print()"
   ]
  },
  {
   "cell_type": "code",
   "execution_count": null,
   "metadata": {
    "collapsed": false
   },
   "outputs": [],
   "source": [
    "# for文\n",
    "array = np.arange(6).reshape(3,2)\n",
    "print(array)\n",
    "print()\n",
    "\n",
    "for item in array:\n",
    "    print(item)\n",
    "\n",
    "print()\n",
    "for item in array.flatten():\n",
    "    print(item)"
   ]
  },
  {
   "cell_type": "code",
   "execution_count": null,
   "metadata": {
    "collapsed": true
   },
   "outputs": [],
   "source": []
  },
  {
   "cell_type": "markdown",
   "metadata": {},
   "source": [
    "#### 演算\n",
    "- 四則演算\n",
    "- ブロードキャスト\n",
    "- 内積"
   ]
  },
  {
   "cell_type": "code",
   "execution_count": null,
   "metadata": {
    "collapsed": false
   },
   "outputs": [],
   "source": [
    "# 足し算\n",
    "A = np.arange(0, 90, 10).reshape(3,3)\n",
    "B = A + 10\n",
    "\n",
    "print(A)\n",
    "print()\n",
    "print(B) # 全体の要素に反映される(ブロードキャスト)"
   ]
  },
  {
   "cell_type": "code",
   "execution_count": null,
   "metadata": {
    "collapsed": false
   },
   "outputs": [],
   "source": [
    "# 引き算\n",
    "A = np.arange(0, 90, 10).reshape(3,3)\n",
    "B = A - 10\n",
    "\n",
    "print(A)\n",
    "print()\n",
    "print(B)"
   ]
  },
  {
   "cell_type": "code",
   "execution_count": null,
   "metadata": {
    "collapsed": false
   },
   "outputs": [],
   "source": [
    "# 掛け算\n",
    "A = np.arange(0, 90, 10).reshape(3,3)\n",
    "B = A * 3\n",
    "\n",
    "print(A)\n",
    "print()\n",
    "print(B)"
   ]
  },
  {
   "cell_type": "code",
   "execution_count": null,
   "metadata": {
    "collapsed": false
   },
   "outputs": [],
   "source": [
    "# 割り算\n",
    "A = np.arange(0, 90, 10).reshape(3,3)\n",
    "B = A / 2\n",
    "\n",
    "print(A)\n",
    "print()\n",
    "print(B) # float型になる"
   ]
  },
  {
   "cell_type": "code",
   "execution_count": null,
   "metadata": {
    "collapsed": false
   },
   "outputs": [],
   "source": [
    "# 行列とベクトルの演算\n",
    "A = np.arange(0, 90, 10).reshape(3,3)\n",
    "B = np.arange(0, 30, 10).reshape(3,1)\n",
    "C = A + B\n",
    "\n",
    "print(A)\n",
    "print()\n",
    "print(B)\n",
    "print()\n",
    "print(C) # 足りない分が補間される(ブロードキャスト)"
   ]
  },
  {
   "cell_type": "code",
   "execution_count": null,
   "metadata": {
    "collapsed": false
   },
   "outputs": [],
   "source": [
    "# 行列と行列の演算  \n",
    "A = np.arange(0, 90, 10).reshape(3,3)\n",
    "B = np.arange(100, 190, 10).reshape(3,3)\n",
    "C = A + B\n",
    "\n",
    "print(A)\n",
    "print()\n",
    "print(B)\n",
    "print()\n",
    "print(C)"
   ]
  },
  {
   "cell_type": "code",
   "execution_count": null,
   "metadata": {
    "collapsed": false
   },
   "outputs": [],
   "source": [
    "# 内積\n",
    "A = np.array([[1, 2], [3, 4]])\n",
    "B = np.array([[5, 6], [7, 8]])\n",
    "print(A)\n",
    "print()\n",
    "print(B)\n",
    "print()\n",
    "\n",
    "AB = np.dot(A, B)\n",
    "#AB = A.dot(B)\n",
    "\n",
    "print(AB)\n",
    "# [[1*5 + 2*7,  1*6 + 2*8],\n",
    "#  [3*5 + 4*7,  3*6 + 4*8]]"
   ]
  },
  {
   "cell_type": "code",
   "execution_count": null,
   "metadata": {
    "collapsed": true
   },
   "outputs": [],
   "source": []
  },
  {
   "cell_type": "markdown",
   "metadata": {},
   "source": [
    "#### 行方向・列方向の処理\n",
    "- axis"
   ]
  },
  {
   "cell_type": "code",
   "execution_count": null,
   "metadata": {
    "collapsed": false
   },
   "outputs": [],
   "source": [
    "array = np.arange(6).reshape(2, 3)\n",
    "print(array)\n",
    "print()\n",
    "\n",
    "# 全体への処理\n",
    "print(np.sum(array))\n",
    "print()\n",
    "\n",
    "# 行方向の処理\n",
    "print(np.sum(array, axis=0))\n",
    "print()\n",
    "\n",
    "# 列方向の処理\n",
    "print(np.sum(array, axis=1))"
   ]
  },
  {
   "cell_type": "code",
   "execution_count": null,
   "metadata": {
    "collapsed": true
   },
   "outputs": [],
   "source": []
  }
 ],
 "metadata": {
  "anaconda-cloud": {},
  "kernelspec": {
   "display_name": "Python 3",
   "language": "python",
   "name": "python3"
  },
  "language_info": {
   "codemirror_mode": {
    "name": "ipython",
    "version": 3
   },
   "file_extension": ".py",
   "mimetype": "text/x-python",
   "name": "python",
   "nbconvert_exporter": "python",
   "pygments_lexer": "ipython3",
   "version": "3.5.1"
  }
 },
 "nbformat": 4,
 "nbformat_minor": 1
}
