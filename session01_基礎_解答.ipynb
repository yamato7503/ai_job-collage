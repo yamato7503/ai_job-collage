{
 "cells": [
  {
   "cell_type": "markdown",
   "metadata": {},
   "source": [
    "## 基礎"
   ]
  },
  {
   "cell_type": "markdown",
   "metadata": {},
   "source": [
    "Q.1.1  \n",
    "★ 1 + 2 × 3 ÷ 2 - 1を計算せよ"
   ]
  },
  {
   "cell_type": "code",
   "execution_count": null,
   "metadata": {
    "collapsed": false
   },
   "outputs": [],
   "source": [
    "1 + 2 * 3 / 2 - 1"
   ]
  },
  {
   "cell_type": "code",
   "execution_count": null,
   "metadata": {
    "collapsed": true
   },
   "outputs": [],
   "source": []
  },
  {
   "cell_type": "markdown",
   "metadata": {},
   "source": [
    "Q.2.1  \n",
    "★ 以下の型を確認せよ  \n",
    "1  \n",
    "\"1\"  \n",
    "'1'  \n",
    "1.0  \n",
    "True"
   ]
  },
  {
   "cell_type": "code",
   "execution_count": null,
   "metadata": {
    "collapsed": false
   },
   "outputs": [],
   "source": [
    "print(type(1))\n",
    "print(type(\"1\"))\n",
    "print(type('1'))\n",
    "print(type(1.0))\n",
    "print(type(True))"
   ]
  },
  {
   "cell_type": "code",
   "execution_count": null,
   "metadata": {
    "collapsed": true
   },
   "outputs": [],
   "source": []
  },
  {
   "cell_type": "markdown",
   "metadata": {},
   "source": [
    "Q.2.2  \n",
    "★ 整数に変換して計算せよ  \n",
    "\"1\"  + 2 + '3'"
   ]
  },
  {
   "cell_type": "code",
   "execution_count": null,
   "metadata": {
    "collapsed": false
   },
   "outputs": [],
   "source": [
    "int(\"1\") + 2 + int('3')"
   ]
  },
  {
   "cell_type": "code",
   "execution_count": null,
   "metadata": {
    "collapsed": true
   },
   "outputs": [],
   "source": []
  },
  {
   "cell_type": "markdown",
   "metadata": {},
   "source": [
    "Q.3.1  \n",
    "★ aとbが等しい値か判定する式を書け  \n",
    "a = 10  \n",
    "b = 5 * 5 / 5 + 5"
   ]
  },
  {
   "cell_type": "code",
   "execution_count": null,
   "metadata": {
    "collapsed": false
   },
   "outputs": [],
   "source": [
    "a = 10\n",
    "b = 5 * 5 / 5 + 5\n",
    "a == b"
   ]
  },
  {
   "cell_type": "code",
   "execution_count": null,
   "metadata": {
    "collapsed": true
   },
   "outputs": [],
   "source": []
  },
  {
   "cell_type": "markdown",
   "metadata": {},
   "source": [
    "Q.4.1  \n",
    "★ 実行すると\"hello!\"と表示される関数を作れ"
   ]
  },
  {
   "cell_type": "code",
   "execution_count": null,
   "metadata": {
    "collapsed": false
   },
   "outputs": [],
   "source": [
    "def func():\n",
    "    print(\"hello!\")\n",
    "    \n",
    "func()"
   ]
  },
  {
   "cell_type": "code",
   "execution_count": null,
   "metadata": {
    "collapsed": true
   },
   "outputs": [],
   "source": []
  },
  {
   "cell_type": "markdown",
   "metadata": {},
   "source": [
    "Q.4.2  \n",
    "★ ２つの引数を取り合計を返す関数を作れ"
   ]
  },
  {
   "cell_type": "code",
   "execution_count": null,
   "metadata": {
    "collapsed": false
   },
   "outputs": [],
   "source": [
    "def func(x, y):\n",
    "    return x + y\n",
    "\n",
    "func(1, 2)"
   ]
  },
  {
   "cell_type": "code",
   "execution_count": null,
   "metadata": {
    "collapsed": true
   },
   "outputs": [],
   "source": []
  },
  {
   "cell_type": "markdown",
   "metadata": {},
   "source": [
    "Q.4.3  \n",
    "★ 整数を引数に取り、100以上の場合はTrueを、それ以外の場合はFalseを返す関数を作れ"
   ]
  },
  {
   "cell_type": "code",
   "execution_count": null,
   "metadata": {
    "collapsed": false
   },
   "outputs": [],
   "source": [
    "def func(n):\n",
    "    return n >= 100\n",
    "\n",
    "func(100)"
   ]
  },
  {
   "cell_type": "code",
   "execution_count": null,
   "metadata": {
    "collapsed": true
   },
   "outputs": [],
   "source": []
  },
  {
   "cell_type": "markdown",
   "metadata": {},
   "source": [
    "Q.4.4  \n",
    "★ 引数をprintする関数を作れ。もし引数がない場合は、「引数がないです」と表示せよ"
   ]
  },
  {
   "cell_type": "code",
   "execution_count": null,
   "metadata": {
    "collapsed": false
   },
   "outputs": [],
   "source": [
    "def func(x = \"引数がないです\"):\n",
    "    print(x)\n",
    "\n",
    "func(\"テスト\")\n",
    "func()"
   ]
  },
  {
   "cell_type": "code",
   "execution_count": null,
   "metadata": {
    "collapsed": true
   },
   "outputs": [],
   "source": []
  },
  {
   "cell_type": "markdown",
   "metadata": {},
   "source": [
    "Q.4.5  \n",
    "★★ 文字列または整数を引数に取り、文字列の場合は文字列の長さを、整数の場合は桁数を返す関数を作れ"
   ]
  },
  {
   "cell_type": "code",
   "execution_count": null,
   "metadata": {
    "collapsed": false
   },
   "outputs": [],
   "source": [
    "def func(x):\n",
    "    return len(str(x))\n",
    "\n",
    "func(100)"
   ]
  },
  {
   "cell_type": "code",
   "execution_count": null,
   "metadata": {
    "collapsed": true
   },
   "outputs": [],
   "source": []
  },
  {
   "cell_type": "markdown",
   "metadata": {},
   "source": [
    "Q.4.6  \n",
    "★ ２つの引数を取り合計を返す関数をlambda式を用いて作れ"
   ]
  },
  {
   "cell_type": "code",
   "execution_count": null,
   "metadata": {
    "collapsed": false
   },
   "outputs": [],
   "source": [
    "(lambda x, y: x + y)(1, 2)"
   ]
  },
  {
   "cell_type": "code",
   "execution_count": null,
   "metadata": {
    "collapsed": true
   },
   "outputs": [],
   "source": []
  },
  {
   "cell_type": "markdown",
   "metadata": {},
   "source": [
    "Q.5.1  \n",
    "★ xが100以上の場合に100と、それ以下の場合はxの値を出力するコードを書け"
   ]
  },
  {
   "cell_type": "code",
   "execution_count": null,
   "metadata": {
    "collapsed": false
   },
   "outputs": [],
   "source": [
    "x = 100\n",
    "if x >= 100:\n",
    "    print(100)\n",
    "else:\n",
    "    print(x)"
   ]
  },
  {
   "cell_type": "code",
   "execution_count": null,
   "metadata": {
    "collapsed": true
   },
   "outputs": [],
   "source": []
  },
  {
   "cell_type": "markdown",
   "metadata": {},
   "source": [
    "Q.5.2  \n",
    "★★ f(0) = 0, f(1) = 1, f(n) = f(n-1) + f(n-2), n>=2 を満たす数列をフィボナッチ数列と言う。引数としてnを取り、フィボナッチ数列のn番目を返す関数を作れ  \n",
    "ヒント  \n",
    "f(2) = 1 + 0 = 1  \n",
    "f(3) = 1 + 1 = 2  \n",
    "f(4) = 2 + 1 = 3  \n",
    "f(5) = 3 + 2 = 5"
   ]
  },
  {
   "cell_type": "code",
   "execution_count": null,
   "metadata": {
    "collapsed": false
   },
   "outputs": [],
   "source": [
    "def fibonacci(n):\n",
    "    if n < 2:\n",
    "        return n\n",
    "    else:\n",
    "        return fibonacci(n-1) + fibonacci(n-2)\n",
    "\n",
    "fibonacci(5)"
   ]
  },
  {
   "cell_type": "code",
   "execution_count": null,
   "metadata": {
    "collapsed": true
   },
   "outputs": [],
   "source": []
  },
  {
   "cell_type": "markdown",
   "metadata": {},
   "source": [
    "Q.5.3  \n",
    "★xを引数として受け取り、xが100以上の場合にAと、xが80以上の場合はBと、それ以下の場合はCと出力する関数を作れ"
   ]
  },
  {
   "cell_type": "code",
   "execution_count": null,
   "metadata": {
    "collapsed": false
   },
   "outputs": [],
   "source": [
    "def func(x):\n",
    "    if x >= 100:\n",
    "        print(\"A\")\n",
    "    elif x>= 80:\n",
    "        print(\"B\")\n",
    "    else:\n",
    "        print(\"C\")\n",
    "        \n",
    "func(120)\n",
    "func(90)\n",
    "func(50)"
   ]
  },
  {
   "cell_type": "code",
   "execution_count": null,
   "metadata": {
    "collapsed": true
   },
   "outputs": [],
   "source": []
  },
  {
   "cell_type": "markdown",
   "metadata": {},
   "source": [
    "Q.6.1  \n",
    "★0から4まで表示するfor文を書け"
   ]
  },
  {
   "cell_type": "code",
   "execution_count": null,
   "metadata": {
    "collapsed": false
   },
   "outputs": [],
   "source": [
    "for n in range(5):\n",
    "    print(n)"
   ]
  },
  {
   "cell_type": "code",
   "execution_count": null,
   "metadata": {
    "collapsed": true
   },
   "outputs": [],
   "source": []
  },
  {
   "cell_type": "markdown",
   "metadata": {},
   "source": [
    "Q.6.2  \n",
    "★1から5まで表示するfor文を書け"
   ]
  },
  {
   "cell_type": "code",
   "execution_count": null,
   "metadata": {
    "collapsed": false
   },
   "outputs": [],
   "source": [
    "for n in range(1, 6): # range(start, end)と指定できる\n",
    "    print(n)"
   ]
  },
  {
   "cell_type": "code",
   "execution_count": null,
   "metadata": {
    "collapsed": false
   },
   "outputs": [],
   "source": [
    "for n in range(5):\n",
    "    print(n+1)"
   ]
  },
  {
   "cell_type": "code",
   "execution_count": null,
   "metadata": {
    "collapsed": true
   },
   "outputs": [],
   "source": []
  },
  {
   "cell_type": "markdown",
   "metadata": {},
   "source": [
    "Q.6.3  \n",
    "★ 0から4まで表示するfor文を書け。ただし、2の時は表示しないようにせよ"
   ]
  },
  {
   "cell_type": "code",
   "execution_count": null,
   "metadata": {
    "collapsed": false
   },
   "outputs": [],
   "source": [
    "for n in range(5):\n",
    "    if n == 2:\n",
    "        continue\n",
    "    print(n)"
   ]
  },
  {
   "cell_type": "code",
   "execution_count": null,
   "metadata": {
    "collapsed": true
   },
   "outputs": [],
   "source": []
  },
  {
   "cell_type": "markdown",
   "metadata": {},
   "source": [
    "Q.7.1  \n",
    "★　0から4までのリストを作成せよ"
   ]
  },
  {
   "cell_type": "code",
   "execution_count": null,
   "metadata": {
    "collapsed": false
   },
   "outputs": [],
   "source": [
    "lis = [0, 1, 2, 3, 4]\n",
    "lis"
   ]
  },
  {
   "cell_type": "code",
   "execution_count": null,
   "metadata": {
    "collapsed": false
   },
   "outputs": [],
   "source": [
    "lis = list(range(5))\n",
    "lis"
   ]
  },
  {
   "cell_type": "code",
   "execution_count": null,
   "metadata": {
    "collapsed": true
   },
   "outputs": [],
   "source": []
  },
  {
   "cell_type": "markdown",
   "metadata": {},
   "source": [
    "Q.7.2  \n",
    "★　0から4までのリストを作成し、1番目（インデックス0）の要素を切り出せ"
   ]
  },
  {
   "cell_type": "code",
   "execution_count": null,
   "metadata": {
    "collapsed": false
   },
   "outputs": [],
   "source": [
    "lis = [0, 1, 2, 3, 4]\n",
    "lis[0]"
   ]
  },
  {
   "cell_type": "code",
   "execution_count": null,
   "metadata": {
    "collapsed": true
   },
   "outputs": [],
   "source": []
  },
  {
   "cell_type": "markdown",
   "metadata": {},
   "source": [
    "Q.7.3  \n",
    "★　0から4までのリストを作成し、2番目と3番目の要素を切り出せ"
   ]
  },
  {
   "cell_type": "code",
   "execution_count": null,
   "metadata": {
    "collapsed": false
   },
   "outputs": [],
   "source": [
    "lis = [0, 1, 2, 3, 4]\n",
    "lis[1:3]"
   ]
  },
  {
   "cell_type": "code",
   "execution_count": null,
   "metadata": {
    "collapsed": true
   },
   "outputs": [],
   "source": []
  },
  {
   "cell_type": "markdown",
   "metadata": {},
   "source": [
    "Q.7.4  \n",
    "★　0から4までのリストを作成し、その後、最後に5を追加せよ"
   ]
  },
  {
   "cell_type": "code",
   "execution_count": null,
   "metadata": {
    "collapsed": false
   },
   "outputs": [],
   "source": [
    "lis = [0, 1, 2, 3, 4]\n",
    "lis.append(5)\n",
    "lis"
   ]
  },
  {
   "cell_type": "code",
   "execution_count": null,
   "metadata": {
    "collapsed": true
   },
   "outputs": [],
   "source": []
  },
  {
   "cell_type": "markdown",
   "metadata": {},
   "source": [
    "Q.7.5  \n",
    "★　0から4までのリストを作成し、後ろから２つの要素を切り出せ"
   ]
  },
  {
   "cell_type": "code",
   "execution_count": null,
   "metadata": {
    "collapsed": false
   },
   "outputs": [],
   "source": [
    "lis = [0, 1, 2, 3, 4]\n",
    "lis[-2:]"
   ]
  },
  {
   "cell_type": "code",
   "execution_count": null,
   "metadata": {
    "collapsed": true
   },
   "outputs": [],
   "source": []
  },
  {
   "cell_type": "markdown",
   "metadata": {},
   "source": [
    "Q.7.6  \n",
    "★　0から4までのリストを作成し、リストの要素数を表示せよ"
   ]
  },
  {
   "cell_type": "code",
   "execution_count": null,
   "metadata": {
    "collapsed": false
   },
   "outputs": [],
   "source": [
    "lis = [0, 1, 2, 3, 4]\n",
    "len(lis)"
   ]
  },
  {
   "cell_type": "code",
   "execution_count": null,
   "metadata": {
    "collapsed": true
   },
   "outputs": [],
   "source": []
  },
  {
   "cell_type": "markdown",
   "metadata": {},
   "source": [
    "Q.7.7  \n",
    "★　0から4までのリストを作成し、2が含まれるか確認せよ"
   ]
  },
  {
   "cell_type": "code",
   "execution_count": null,
   "metadata": {
    "collapsed": false
   },
   "outputs": [],
   "source": [
    "lis = [0, 1, 2, 3, 4]\n",
    "2 in lis"
   ]
  },
  {
   "cell_type": "code",
   "execution_count": null,
   "metadata": {
    "collapsed": true
   },
   "outputs": [],
   "source": []
  },
  {
   "cell_type": "markdown",
   "metadata": {},
   "source": [
    "Q.7.8  \n",
    "★　1から100までの合計を求めよ"
   ]
  },
  {
   "cell_type": "code",
   "execution_count": null,
   "metadata": {
    "collapsed": false
   },
   "outputs": [],
   "source": [
    "lis = list(range(1, 101))\n",
    "print(lis)\n",
    "sum(lis)"
   ]
  },
  {
   "cell_type": "code",
   "execution_count": null,
   "metadata": {
    "collapsed": true
   },
   "outputs": [],
   "source": []
  },
  {
   "cell_type": "markdown",
   "metadata": {},
   "source": [
    "Q.7.9  \n",
    "★ リスト[1,3,2,4,5]を昇順に並べ替えよ"
   ]
  },
  {
   "cell_type": "code",
   "execution_count": null,
   "metadata": {
    "collapsed": false
   },
   "outputs": [],
   "source": [
    "lis = [1,3,2,4,5]\n",
    "lis.sort()\n",
    "lis"
   ]
  },
  {
   "cell_type": "code",
   "execution_count": null,
   "metadata": {
    "collapsed": true
   },
   "outputs": [],
   "source": []
  },
  {
   "cell_type": "markdown",
   "metadata": {},
   "source": [
    "Q.7.10  \n",
    "★ リスト[1,3,2,4,5]を降順に並べ替えよ"
   ]
  },
  {
   "cell_type": "code",
   "execution_count": null,
   "metadata": {
    "collapsed": false
   },
   "outputs": [],
   "source": [
    "lis = [1,3,2,4,5]\n",
    "lis.sort(reverse=True)\n",
    "lis"
   ]
  },
  {
   "cell_type": "code",
   "execution_count": null,
   "metadata": {
    "collapsed": true
   },
   "outputs": [],
   "source": []
  },
  {
   "cell_type": "markdown",
   "metadata": {},
   "source": [
    "Q.7.11  \n",
    "★　enumerateを使ったfor文を作れ"
   ]
  },
  {
   "cell_type": "code",
   "execution_count": null,
   "metadata": {
    "collapsed": false
   },
   "outputs": [],
   "source": [
    "for i, n in enumerate([\"a\", \"b\", \"c\"]):\n",
    "    print(i, n)"
   ]
  },
  {
   "cell_type": "code",
   "execution_count": null,
   "metadata": {
    "collapsed": true
   },
   "outputs": [],
   "source": []
  },
  {
   "cell_type": "markdown",
   "metadata": {},
   "source": [
    "Q.7.12  \n",
    "★　zipを使ったfor文を作れ"
   ]
  },
  {
   "cell_type": "code",
   "execution_count": null,
   "metadata": {
    "collapsed": false
   },
   "outputs": [],
   "source": [
    "for i, n in zip(range(3), [\"a\", \"b\", \"c\"]):\n",
    "    print(i, n)"
   ]
  },
  {
   "cell_type": "code",
   "execution_count": null,
   "metadata": {
    "collapsed": true
   },
   "outputs": [],
   "source": []
  },
  {
   "cell_type": "markdown",
   "metadata": {},
   "source": [
    "Q.7.13  \n",
    "★★★　リストを引数に与えると昇順に並び替える自作関数を実装せよ（組み込み関数のsortは用いてはならない）"
   ]
  },
  {
   "cell_type": "code",
   "execution_count": null,
   "metadata": {
    "collapsed": false
   },
   "outputs": [],
   "source": [
    "def my_sort(X):\n",
    "    \n",
    "    def select_min(X, i):\n",
    "        \"\"\"\n",
    "        関数内関数として定義\n",
    "        \"\"\"\n",
    "        min_idx = i\n",
    "        for j in range(i + 1, len(X)):\n",
    "            if X[min_idx] > X[j]:\n",
    "                min_idx = j\n",
    "        i_value = X[i]\n",
    "        X[i] = X[min_idx]\n",
    "        X[min_idx] = i_value\n",
    "    \n",
    "    for i in range(0, len(X) - 1):\n",
    "        select_min(X, i)\n",
    "\n",
    "lis = [1,3,2,4,5]\n",
    "print(lis)\n",
    "my_sort(lis)\n",
    "print(lis)"
   ]
  },
  {
   "cell_type": "code",
   "execution_count": null,
   "metadata": {
    "collapsed": true
   },
   "outputs": [],
   "source": []
  },
  {
   "cell_type": "markdown",
   "metadata": {},
   "source": [
    "Q.7.14  \n",
    "★　リストを与えると、全ての要素を3倍して返す関数を作れ（ただし、リスト内包表記を用いないこと）  \n",
    "例:[1,2,3]→[3,6,9]"
   ]
  },
  {
   "cell_type": "code",
   "execution_count": null,
   "metadata": {
    "collapsed": false
   },
   "outputs": [],
   "source": [
    "def func(lis):\n",
    "    ret = []\n",
    "    for n in lis:\n",
    "        ret.append(n * 3)\n",
    "    return ret\n",
    "\n",
    "lis = [1,2,3]\n",
    "func(lis)"
   ]
  },
  {
   "cell_type": "code",
   "execution_count": null,
   "metadata": {
    "collapsed": true
   },
   "outputs": [],
   "source": []
  },
  {
   "cell_type": "markdown",
   "metadata": {},
   "source": [
    "Q.7.15  \n",
    "★　リストを与えると、全ての要素を3倍して返す関数を作れ（ただし、リスト内包表記を用いること） "
   ]
  },
  {
   "cell_type": "code",
   "execution_count": null,
   "metadata": {
    "collapsed": false
   },
   "outputs": [],
   "source": [
    "def func(lis):\n",
    "    return [n * 3 for n in lis]\n",
    "\n",
    "lis = [1,2,3]\n",
    "func(lis)"
   ]
  },
  {
   "cell_type": "code",
   "execution_count": null,
   "metadata": {
    "collapsed": true
   },
   "outputs": [],
   "source": []
  },
  {
   "cell_type": "markdown",
   "metadata": {},
   "source": [
    "Q.7.16  \n",
    "★　整数と整数の文字列の混じる要素のリストを与えると、全ての要素を整数にして返す関数を作れ（ただし、リスト内包表記を用いないこと）  \n",
    "例:[1,\"2\",3]→[1,2,3]"
   ]
  },
  {
   "cell_type": "code",
   "execution_count": null,
   "metadata": {
    "collapsed": false
   },
   "outputs": [],
   "source": [
    "def func(lis):\n",
    "    ret = []\n",
    "    for x in lis:\n",
    "        ret.append(int(x))\n",
    "    return ret\n",
    "\n",
    "lis = [1,\"2\",3]\n",
    "func(lis)"
   ]
  },
  {
   "cell_type": "code",
   "execution_count": null,
   "metadata": {
    "collapsed": true
   },
   "outputs": [],
   "source": []
  },
  {
   "cell_type": "markdown",
   "metadata": {},
   "source": [
    "Q.7.17  \n",
    "★　整数と整数の文字列の混じる要素のリストを与えると、全ての要素を整数にして返す関数を作れ（ただし、リスト内包表記を用いること）  "
   ]
  },
  {
   "cell_type": "code",
   "execution_count": null,
   "metadata": {
    "collapsed": false
   },
   "outputs": [],
   "source": [
    "def func(lis):\n",
    "    return [int(x) for x in lis]\n",
    "\n",
    "lis = [1,\"2\",3]\n",
    "func(lis)"
   ]
  },
  {
   "cell_type": "code",
   "execution_count": null,
   "metadata": {
    "collapsed": true
   },
   "outputs": [],
   "source": []
  },
  {
   "cell_type": "markdown",
   "metadata": {},
   "source": [
    "Q.7.18  \n",
    "★　整数と整数の文字列の混じる要素のリストを与えると、文字列を取り除いたリストを返す関数を作れ（ただし、リスト内包表記を用いないこと）   \n",
    "例:[1,\"2\",3]→[1,3]  \n",
    "ヒント:文字列の判別はisinstance(\"a\", str)でできる"
   ]
  },
  {
   "cell_type": "code",
   "execution_count": null,
   "metadata": {
    "collapsed": false
   },
   "outputs": [],
   "source": [
    "def func(lis):\n",
    "    ret = []\n",
    "    for x in lis:\n",
    "        if isinstance(x, str):\n",
    "            continue\n",
    "        ret.append(x)\n",
    "    return ret\n",
    "\n",
    "lis = [1,\"2\",3]\n",
    "func(lis)"
   ]
  },
  {
   "cell_type": "code",
   "execution_count": null,
   "metadata": {
    "collapsed": true
   },
   "outputs": [],
   "source": []
  },
  {
   "cell_type": "markdown",
   "metadata": {},
   "source": [
    "Q.7.19  \n",
    "★　整数と整数の文字列の混じる要素のリストを与えると、文字列を取り除いたリストを返す関数を作れ（ただし、リスト内包表記を用いること）  "
   ]
  },
  {
   "cell_type": "code",
   "execution_count": null,
   "metadata": {
    "collapsed": false
   },
   "outputs": [],
   "source": [
    "def func(lis):\n",
    "    return [x for x in lis if not isinstance(x, str)]\n",
    "\n",
    "lis = [1,\"2\",3]\n",
    "func(lis)"
   ]
  },
  {
   "cell_type": "code",
   "execution_count": null,
   "metadata": {
    "collapsed": true
   },
   "outputs": [],
   "source": []
  },
  {
   "cell_type": "markdown",
   "metadata": {},
   "source": [
    "Q.8.1  \n",
    "★ リストを与えるとタプルに変換して返す関数を作れ"
   ]
  },
  {
   "cell_type": "code",
   "execution_count": null,
   "metadata": {
    "collapsed": false
   },
   "outputs": [],
   "source": [
    "def func(lis):\n",
    "    return tuple(lis)\n",
    "\n",
    "lis = [1,\"2\",3]\n",
    "func(lis)"
   ]
  },
  {
   "cell_type": "code",
   "execution_count": null,
   "metadata": {
    "collapsed": true
   },
   "outputs": [],
   "source": []
  },
  {
   "cell_type": "markdown",
   "metadata": {},
   "source": [
    "Q.9.1  \n",
    "★　リスト[1,2,3]とリスト[3,4,5]の重複する要素をセットを用いて出力せよ"
   ]
  },
  {
   "cell_type": "code",
   "execution_count": null,
   "metadata": {
    "collapsed": false
   },
   "outputs": [],
   "source": [
    "list_a = [1, 2, 3]\n",
    "list_b = [3, 4, 5]\n",
    "set(list_a) & set(list_b)"
   ]
  },
  {
   "cell_type": "code",
   "execution_count": null,
   "metadata": {
    "collapsed": true
   },
   "outputs": [],
   "source": []
  },
  {
   "cell_type": "markdown",
   "metadata": {},
   "source": [
    "Q.9.2  \n",
    "★★ リストを与えると重複要素を削除して返す関数を作れ。なお、出力するリストは昇順に並び替えるものとする"
   ]
  },
  {
   "cell_type": "code",
   "execution_count": null,
   "metadata": {
    "collapsed": false
   },
   "outputs": [],
   "source": [
    "def func(lis):\n",
    "    ret = list(set(lis))\n",
    "    ret.sort()\n",
    "    return ret\n",
    "\n",
    "func([1,2,2,3,5,5,5,2])"
   ]
  },
  {
   "cell_type": "code",
   "execution_count": null,
   "metadata": {
    "collapsed": true
   },
   "outputs": [],
   "source": []
  },
  {
   "cell_type": "markdown",
   "metadata": {},
   "source": [
    "Q.10.1  \n",
    "★ A:1, B:2, C:3のディクトを作れ"
   ]
  },
  {
   "cell_type": "code",
   "execution_count": null,
   "metadata": {
    "collapsed": false
   },
   "outputs": [],
   "source": [
    "dic = {\"A\":1, \"B\":2, \"C\":3}\n",
    "dic   "
   ]
  },
  {
   "cell_type": "code",
   "execution_count": null,
   "metadata": {
    "collapsed": true
   },
   "outputs": [],
   "source": []
  },
  {
   "cell_type": "markdown",
   "metadata": {},
   "source": [
    "Q.10.2  \n",
    "★ A:1, B:2, C:3のディクトを作り、Bのvalueを取得せよ"
   ]
  },
  {
   "cell_type": "code",
   "execution_count": null,
   "metadata": {
    "collapsed": false
   },
   "outputs": [],
   "source": [
    "dic = {\"A\":1, \"B\":2, \"C\":3}\n",
    "dic[\"B\"] # dic.get(\"B\")"
   ]
  },
  {
   "cell_type": "code",
   "execution_count": null,
   "metadata": {
    "collapsed": true
   },
   "outputs": [],
   "source": []
  },
  {
   "cell_type": "markdown",
   "metadata": {},
   "source": [
    "Q.10.3  \n",
    "★ A:1, B:2, C:3のディクトを作り、Cのvalueを10倍せよ"
   ]
  },
  {
   "cell_type": "code",
   "execution_count": null,
   "metadata": {
    "collapsed": false
   },
   "outputs": [],
   "source": [
    "dic = {\"A\":1, \"B\":2, \"C\":3}\n",
    "dic[\"C\"] = dic[\"C\"] * 10\n",
    "dic"
   ]
  },
  {
   "cell_type": "code",
   "execution_count": null,
   "metadata": {
    "collapsed": true
   },
   "outputs": [],
   "source": []
  },
  {
   "cell_type": "markdown",
   "metadata": {},
   "source": [
    "Q.10.4  \n",
    "★ A:1, B:2, C:3のディクトに対して、keyを引数で受け取り、valueが存在すればvalueを返し、存在しない場合は「存在しません」と表示する関数を作れ"
   ]
  },
  {
   "cell_type": "code",
   "execution_count": null,
   "metadata": {
    "collapsed": false
   },
   "outputs": [],
   "source": [
    "def func(key):\n",
    "    dic = {\"A\":1, \"B\":2, \"C\":3}\n",
    "    ret = dic.get(key)\n",
    "    if ret == None:\n",
    "        print(\"存在しません\")\n",
    "    else:\n",
    "        return ret\n",
    "    \n",
    "func(\"D\")\n",
    "func(\"A\")"
   ]
  },
  {
   "cell_type": "code",
   "execution_count": null,
   "metadata": {
    "collapsed": true
   },
   "outputs": [],
   "source": []
  },
  {
   "cell_type": "markdown",
   "metadata": {},
   "source": [
    "Q.10.5  \n",
    "★★ リスト[1,2,3]の要素をkeyとし、値は各要素の２倍のdictを作れ"
   ]
  },
  {
   "cell_type": "code",
   "execution_count": null,
   "metadata": {
    "collapsed": false
   },
   "outputs": [],
   "source": [
    "dic = {}\n",
    "lis = [1, 2, 3]\n",
    "for i in lis:\n",
    "    dic[i] = i * 2\n",
    "dic"
   ]
  },
  {
   "cell_type": "code",
   "execution_count": null,
   "metadata": {
    "collapsed": false
   },
   "outputs": [],
   "source": [
    "# ディクト内包表記を用いる\n",
    "dic = {i : i*2 for i in [1, 2, 3]}\n",
    "dic"
   ]
  },
  {
   "cell_type": "code",
   "execution_count": null,
   "metadata": {
    "collapsed": true
   },
   "outputs": [],
   "source": []
  },
  {
   "cell_type": "markdown",
   "metadata": {},
   "source": [
    "Q.10.6  \n",
    "★ A:1, B:2, C:3のディクトを作り、for文でkeyを全てprintせよ"
   ]
  },
  {
   "cell_type": "code",
   "execution_count": null,
   "metadata": {
    "collapsed": false
   },
   "outputs": [],
   "source": [
    "dic = {\"A\":1, \"B\":2, \"C\":3}\n",
    "for key in dic:\n",
    "    print(key)"
   ]
  },
  {
   "cell_type": "code",
   "execution_count": null,
   "metadata": {
    "collapsed": true
   },
   "outputs": [],
   "source": []
  },
  {
   "cell_type": "markdown",
   "metadata": {},
   "source": [
    "Q.10.7  \n",
    "★ A:1, B:2, C:3のディクトを作り、for文でvalueを全てprintせよ"
   ]
  },
  {
   "cell_type": "code",
   "execution_count": null,
   "metadata": {
    "collapsed": false
   },
   "outputs": [],
   "source": [
    "dic = {\"A\":1, \"B\":2, \"C\":3}\n",
    "for value in dic.values():\n",
    "    print(value)"
   ]
  },
  {
   "cell_type": "code",
   "execution_count": null,
   "metadata": {
    "collapsed": true
   },
   "outputs": [],
   "source": []
  },
  {
   "cell_type": "markdown",
   "metadata": {},
   "source": [
    "Q.10.8  \n",
    "★ A:1, B:2, C:3のディクトを作り、for文でkey,valueを全てprintせよ"
   ]
  },
  {
   "cell_type": "code",
   "execution_count": null,
   "metadata": {
    "collapsed": false
   },
   "outputs": [],
   "source": [
    "dic = {\"A\":1, \"B\":2, \"C\":3}\n",
    "for key, value in dic.items():\n",
    "    print(key, value)"
   ]
  },
  {
   "cell_type": "code",
   "execution_count": null,
   "metadata": {
    "collapsed": true
   },
   "outputs": [],
   "source": []
  },
  {
   "cell_type": "markdown",
   "metadata": {},
   "source": [
    "Q.11.1  \n",
    "★名字と名前を保持するNameという名前のクラスを作り、インスタンスを作成して各メソッドを実行せよ   \n",
    "・インスタンス変数にlast_nameとfirst_nameを持ち、コンストラクタで受け取る  \n",
    "・インスタンスメソッドでlast_nameを表示できるshow_last_nameという名前のメソッドを持つ  \n",
    "・インスタンスメソッドでfirst_nameを表示できるshow_last_nameという名前のメソッドを持つ  \n",
    "・インスタンスメソッドでlast_nameとfirst_nameを結合して表示できるshow_nameという名前のメソッドを持つ"
   ]
  },
  {
   "cell_type": "code",
   "execution_count": null,
   "metadata": {
    "collapsed": false
   },
   "outputs": [],
   "source": [
    "class Name:\n",
    "    \n",
    "    def __init__(self, last_name, first_name):\n",
    "        self.last_name = last_name\n",
    "        self.first_name = first_name\n",
    "        \n",
    "    def show_last_name(self):\n",
    "        print(self.last_name)\n",
    "\n",
    "    def show_first_name(self):\n",
    "        print(self.first_name)\n",
    "\n",
    "    def show_name(self):\n",
    "        print(self.last_name + self.first_name)\n",
    "\n",
    "name = Name(\"あああ\", \"いいい\")\n",
    "name.show_last_name()\n",
    "name.show_first_name()\n",
    "name.show_name()"
   ]
  },
  {
   "cell_type": "code",
   "execution_count": null,
   "metadata": {
    "collapsed": true
   },
   "outputs": [],
   "source": []
  },
  {
   "cell_type": "markdown",
   "metadata": {},
   "source": [
    "Q.11.2  \n",
    "★Calcという名前のクラスを作り、インスタンスを作成して各メソッドを実行せよ  \n",
    "・インスタンスメソッドで2つの引数を受け取り、合計して表示するplusと言う名前のメソッドを持つ  \n",
    "・インスタンスメソッドでリストの引数を受け取り、要素を合計して表示するtotalと言う名前のメソッドを持つ\n"
   ]
  },
  {
   "cell_type": "code",
   "execution_count": null,
   "metadata": {
    "collapsed": false
   },
   "outputs": [],
   "source": [
    "class Calc:\n",
    "    \n",
    "    def plus(self, x, y):\n",
    "        print(x + y)\n",
    "        \n",
    "    def total(self, lis):\n",
    "        print(sum(lis))\n",
    "\n",
    "calc = Calc()\n",
    "calc.plus(1, 2)\n",
    "calc.total([1,2,3,4])"
   ]
  },
  {
   "cell_type": "code",
   "execution_count": null,
   "metadata": {
    "collapsed": true
   },
   "outputs": [],
   "source": []
  },
  {
   "cell_type": "markdown",
   "metadata": {},
   "source": [
    "Q.12  \n",
    "★★ まとめ問題  \n",
    "以下の設計図を元に計算機クラスを実装せよ  \n",
    "\n",
    "クラス名 Calculator  \n",
    "\n",
    "クラス変数 OPERATORS  \n",
    "リスト[\"+\", \"-\", \"\\*\", \"/\"]を登録しておく\n",
    "\n",
    "コンストラクタ  \n",
    "・数字の引数があればインスタンス変数current_numに保存する  \n",
    "・数字以外を受け取った場合、\"エラー：引数は数字に限られます。0を保存しました。\"と表示してcurrent_numに0をセットする  \n",
    "・引数がない場合、current_numに0を保存する  \n",
    "・インスタンス変数has_operatorにFalseを保存する\n",
    "\n",
    "メソッド名 key  \n",
    "＜has_operatorがFalseの場合＞  \n",
    "・\"+\", \"-\", \"\\*\", \"/\"のどれかの文字列を受け取り、それ以外の値を受け取った場合、\"+,-,\\*,/を入力してください。\"と表示する  \n",
    "・\"+\", \"-\", \"\\*\", \"/\"のどれかの文字列を受け取った場合、インスタンス変数operatorに当該文字列を保存し、has_operatorをTrueにする  \n",
    "＜has_operatorがTrueの場合＞  \n",
    "・数字を受け取り、それ以外の値を受け取った場合、\"数字を入力してください。\"と表示する  \n",
    "・数字を受け取った場合、current_numと当該数字を登録されているoperatorで計算してcurrent_numに保存する。また、has_operatorをFalseにする  \n",
    "例：current_num=\"3\", operator=\"+\", 引数=5 → current_num=8\n",
    "\n",
    "メソッド名 result  \n",
    "current_numを出力する  \n",
    "\n",
    "メソッド名  clear  \n",
    "current_numを0にし、has_operatorをFalseにする  \n",
    "\n",
    "ヒント  \n",
    "引数が数字が否か判定する: isinstance(num, (int, float))"
   ]
  },
  {
   "cell_type": "code",
   "execution_count": null,
   "metadata": {
    "collapsed": false
   },
   "outputs": [],
   "source": [
    "class Calculator:\n",
    "    \n",
    "    OPERATORS = [\"+\", \"-\", \"*\", \"/\"]\n",
    "    \n",
    "    def __init__(self, num=0):\n",
    "        if not isinstance(num, (int, float)):\n",
    "            self.current_num = 0\n",
    "            print(\"引数は数字に限られます。0を保存しました。\")\n",
    "        else:\n",
    "            self.current_num = num\n",
    "        self.has_operator = False\n",
    "    \n",
    "    def key(self, key):\n",
    "        if self.has_operator:\n",
    "            if not isinstance(key, (int, float)):\n",
    "                print(\"数字を入力してください。\")\n",
    "            else:\n",
    "                if self.operator == \"+\":\n",
    "                    self.current_num = self.current_num + key\n",
    "                elif self.operator == \"-\":\n",
    "                    self.current_num = self.current_num - key\n",
    "                elif self.operator == \"*\":\n",
    "                    self.current_num = self.current_num * key\n",
    "                elif self.operator == \"/\":\n",
    "                    self.current_num = self.current_num / key\n",
    "                self.has_operator = False\n",
    "\n",
    "        else:\n",
    "            if not key in self.OPERATORS:\n",
    "                print(\"+,-,*,/を入力してください。\")\n",
    "            else:\n",
    "                self.operator = key\n",
    "                self.has_operator = True\n",
    "\n",
    "    def result(self):\n",
    "        print(self.current_num)\n",
    "        \n",
    "    def clear(self):\n",
    "        self.current_num = 0\n",
    "        self.has_operator = False\n",
    "        \n",
    "calc = Calculator(1)\n",
    "calc.key(1)\n",
    "calc.key(\"+\")\n",
    "calc.key(2)\n",
    "calc.result()\n",
    "print()\n",
    "calc.clear()\n",
    "calc.key(\"*\")\n",
    "calc.key(\"/\")\n",
    "calc.key(2)\n",
    "calc.result()"
   ]
  },
  {
   "cell_type": "code",
   "execution_count": null,
   "metadata": {
    "collapsed": true
   },
   "outputs": [],
   "source": []
  },
  {
   "cell_type": "markdown",
   "metadata": {},
   "source": [
    "Q.13  \n",
    "★★★ 以下のRateDataManagerクラスはget_lastest_idメソッドがfor文ごとに呼び出され、無駄にreadが発生している。get_lastest_idをfor文の外に出して1度しか呼ばれないように改修せよ  "
   ]
  },
  {
   "cell_type": "code",
   "execution_count": null,
   "metadata": {
    "collapsed": true
   },
   "outputs": [],
   "source": [
    "# 問題\n",
    "import os\n",
    "import requests\n",
    "import json\n",
    "\n",
    "class RateDataManager:\n",
    "    \"\"\"\n",
    "    APIでビットコインのレートを取得し、csvに保存する\n",
    "    https://coincheck.com/ja/documents/exchange/api\n",
    "    \"\"\"\n",
    "    \n",
    "    REQ_URL = \"https://coincheck.com/api/trades?pair=btc_jpy\"\n",
    "    DATA_DIR = \"./data\"\n",
    "    COLUMNS = \"pair,rate,amount,created_at,id,order_type\"\n",
    "    \n",
    "    def __init__(self):\n",
    "        self.initialize_data_dir()\n",
    "        self.update_rate_list()\n",
    "\n",
    "\n",
    "    def initialize_data_dir(self):\n",
    "        if not os.path.exists(self.DATA_DIR):\n",
    "            os.makedirs(self.DATA_DIR)\n",
    "            print(\"make dir: {}\".format(self.DATA_DIR))\n",
    "    \n",
    "    \n",
    "    def initialize_data_file(self, target_file):        \n",
    "        if not os.path.exists(\"{}/{}\".format(self.DATA_DIR, target_file)):\n",
    "                with open(\"{}/{}\".format(self.DATA_DIR, target_file), mode=\"w\") as f:\n",
    "                    f.write(self.COLUMNS + \"\\n\")\n",
    "                print(\"make file: {}/{}\".format(self.DATA_DIR, target_file))\n",
    "    \n",
    "    \n",
    "    def update_rate_list(self):    \n",
    "        self.current_rate_list =  json.loads(requests.get(self.REQ_URL).text)[\"data\"]    \n",
    "        \n",
    "    \n",
    "    def get_output_dict(self):\n",
    "        output_dict = {}\n",
    "        for rate in reversed(self.current_rate_list):\n",
    "            rate[\"created_at\"] = rate[\"created_at\"].replace(\"T\",\" \")[:19]\n",
    "            target_file = \"{}_{}.csv\".format(rate[\"pair\"],rate[\"created_at\"][:10])\n",
    "            if not output_dict.get(target_file):\n",
    "                output_dict[target_file] = []\n",
    "            output_dict[target_file].append(rate)\n",
    "        return output_dict\n",
    "    \n",
    "    \n",
    "    def get_lastest_id(self, target_file):        \n",
    "        with open(\"{}/{}\".format(self.DATA_DIR, target_file), mode=\"r\") as f:    \n",
    "            for row in f:\n",
    "                if row == \"\":\n",
    "                    break\n",
    "                last_row = row\n",
    "            latest_id = last_row.split(\",\")[4]\n",
    "            if latest_id == \"id\":\n",
    "                latest_id = 0\n",
    "            else: \n",
    "                latest_id = int(latest_id)        \n",
    "        return latest_id\n",
    "    \n",
    "\n",
    "    def run(self, update=True): \n",
    "        \n",
    "        if update:\n",
    "            self.update_rate_list()\n",
    "        \n",
    "        for target_file, rate_list in  self.get_output_dict().items():\n",
    "            \n",
    "            self.initialize_data_file(target_file)\n",
    "            \n",
    "            text = \"\"\n",
    "            for rate in rate_list:\n",
    "                if int(rate[\"id\"]) > self.get_lastest_id(target_file):  # 無駄にreadしている\n",
    "                    text += \",\".join([str(x) for x in rate.values()]) + \"\\n\"\n",
    "            \n",
    "            if text != \"\":\n",
    "                with open(\"{}/{}\".format(self.DATA_DIR, target_file), mode=\"a\") as f:\n",
    "                    f.write(text)\n",
    "                print(\"write text:\\n\" + text)\n"
   ]
  },
  {
   "cell_type": "code",
   "execution_count": null,
   "metadata": {
    "collapsed": true
   },
   "outputs": [],
   "source": [
    "# 解答\n",
    "import os\n",
    "import requests\n",
    "import json\n",
    "\n",
    "class RateDataManager:\n",
    "    \"\"\"\n",
    "    APIでビットコインのレートを取得し、csvに保存する\n",
    "    https://coincheck.com/ja/documents/exchange/api\n",
    "    \"\"\"\n",
    "    \n",
    "    REQ_URL = \"https://coincheck.com/api/trades?pair=btc_jpy\"\n",
    "    DATA_DIR = \"./data\"\n",
    "    COLUMNS = \"pair,rate,amount,created_at,id,order_type\"\n",
    "    \n",
    "    def __init__(self):\n",
    "        self.initialize_data_dir()\n",
    "        self.update_rate_list()\n",
    "\n",
    "\n",
    "    def initialize_data_dir(self):\n",
    "        if not os.path.exists(self.DATA_DIR):\n",
    "            os.makedirs(self.DATA_DIR)\n",
    "            print(\"make dir: {}\".format(self.DATA_DIR))\n",
    "    \n",
    "    \n",
    "    def initialize_data_file(self, target_file):        \n",
    "        if not os.path.exists(\"{}/{}\".format(self.DATA_DIR, target_file)):\n",
    "                with open(\"{}/{}\".format(self.DATA_DIR, target_file), mode=\"w\") as f:\n",
    "                    f.write(self.COLUMNS + \"\\n\")\n",
    "                print(\"make file: {}/{}\".format(self.DATA_DIR, target_file))\n",
    "    \n",
    "    \n",
    "    def update_rate_list(self):    \n",
    "        self.current_rate_list =  json.loads(requests.get(self.REQ_URL).text)[\"data\"]    \n",
    "        \n",
    "    \n",
    "    def get_output_dict(self):\n",
    "        output_dict = {}\n",
    "        for rate in reversed(self.current_rate_list):\n",
    "            rate[\"created_at\"] = rate[\"created_at\"].replace(\"T\",\" \")[:19]\n",
    "            target_file = \"{}_{}.csv\".format(rate[\"pair\"],rate[\"created_at\"][:10])\n",
    "            if not output_dict.get(target_file):\n",
    "                output_dict[target_file] = []\n",
    "            output_dict[target_file].append(rate)\n",
    "        return output_dict\n",
    "    \n",
    "    \n",
    "    def get_lastest_id(self, target_file):        \n",
    "        with open(\"{}/{}\".format(self.DATA_DIR, target_file), mode=\"r\") as f:    \n",
    "            for row in f:\n",
    "                if row == \"\":\n",
    "                    break\n",
    "                last_row = row\n",
    "            latest_id = last_row.split(\",\")[4]\n",
    "            if latest_id == \"id\":\n",
    "                latest_id = 0\n",
    "            else: \n",
    "                latest_id = int(latest_id)        \n",
    "        return latest_id\n",
    "    \n",
    "\n",
    "    def run(self, update=True): \n",
    "        \n",
    "        if update:\n",
    "            self.update_rate_list()\n",
    "        \n",
    "        for target_file, rate_list in  self.get_output_dict().items():\n",
    "            \n",
    "            self.initialize_data_file(target_file)\n",
    "            \n",
    "            text = \"\"\n",
    "            latest_id = self.get_lastest_id(target_file)\n",
    "            for rate in rate_list:\n",
    "                if int(rate[\"id\"]) > latest_id:\n",
    "                    text += \",\".join([str(x) for x in rate.values()]) + \"\\n\"\n",
    "            \n",
    "            if text != \"\":\n",
    "                with open(\"{}/{}\".format(self.DATA_DIR, target_file), mode=\"a\") as f:\n",
    "                    f.write(text)\n",
    "                print(\"write text:\\n\" + text)\n"
   ]
  }
 ],
 "metadata": {
  "anaconda-cloud": {},
  "kernelspec": {
   "display_name": "Python 3",
   "language": "python",
   "name": "python3"
  },
  "language_info": {
   "codemirror_mode": {
    "name": "ipython",
    "version": 3
   },
   "file_extension": ".py",
   "mimetype": "text/x-python",
   "name": "python",
   "nbconvert_exporter": "python",
   "pygments_lexer": "ipython3",
   "version": "3.5.1"
  }
 },
 "nbformat": 4,
 "nbformat_minor": 1
}
